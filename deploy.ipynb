{
 "metadata": {
  "language_info": {
   "codemirror_mode": {
    "name": "ipython",
    "version": 3
   },
   "file_extension": ".py",
   "mimetype": "text/x-python",
   "name": "python",
   "nbconvert_exporter": "python",
   "pygments_lexer": "ipython3",
   "version": "3.8.8"
  },
  "orig_nbformat": 4,
  "kernelspec": {
   "name": "python3",
   "display_name": "Python 3.8.8 64-bit ('yumeML': conda)"
  },
  "interpreter": {
   "hash": "3a6ebf4dbc12d603262ad277657bedae94e10e8a15742d21f87eb8394313e8bc"
  }
 },
 "nbformat": 4,
 "nbformat_minor": 2,
 "cells": [
  {
   "cell_type": "code",
   "execution_count": 3,
   "metadata": {},
   "outputs": [],
   "source": [
    "# 2021/07/02　実装\n",
    "# Kenta Suzuki\n",
    "# 参考サイト：　https://qiita.com/kro/items/67f7510b36945eb9689b\n",
    "# LINE BOT API: https://developers.line.biz/console/channel/1656101961\n",
    "# すべて実行を押してください\n"
   ]
  },
  {
   "cell_type": "code",
   "execution_count": 1,
   "metadata": {},
   "outputs": [
    {
     "output_type": "stream",
     "name": "stdout",
     "text": [
      "Collecting flask  WARNING: The script flask.exe is installed in 'C:\\Users\\ORANGE\\anaconda3\\envs\\yumeML\\Scripts' which is not on PATH.\n",
      "  Consider adding this directory to PATH or, if you prefer to suppress this warning, use --no-warn-script-location.\n",
      "\n",
      "  Using cached Flask-2.0.1-py3-none-any.whl (94 kB)\n",
      "Collecting Jinja2>=3.0\n",
      "  Using cached Jinja2-3.0.1-py3-none-any.whl (133 kB)\n",
      "Collecting click>=7.1.2\n",
      "  Using cached click-8.0.1-py3-none-any.whl (97 kB)\n",
      "Collecting Werkzeug>=2.0\n",
      "  Using cached Werkzeug-2.0.1-py3-none-any.whl (288 kB)\n",
      "Collecting itsdangerous>=2.0\n",
      "  Using cached itsdangerous-2.0.1-py3-none-any.whl (18 kB)\n",
      "Requirement already satisfied: colorama in c:\\users\\orange\\anaconda3\\envs\\yumeml\\lib\\site-packages (from click>=7.1.2->flask) (0.4.4)\n",
      "Collecting MarkupSafe>=2.0\n",
      "  Downloading MarkupSafe-2.0.1-cp38-cp38-win_amd64.whl (14 kB)\n",
      "Installing collected packages: MarkupSafe, Werkzeug, Jinja2, itsdangerous, click, flask\n",
      "Successfully installed Jinja2-3.0.1 MarkupSafe-2.0.1 Werkzeug-2.0.1 click-8.0.1 flask-2.0.1 itsdangerous-2.0.1\n",
      "Collecting line-bot-sdk\n",
      "  Using cached line_bot_sdk-1.19.0-py2.py3-none-any.whl (68 kB)\n",
      "Collecting future\n",
      "  Using cached future-0.18.2.tar.gz (829 kB)\n",
      "Collecting requests>=2.0\n",
      "  Using cached requests-2.25.1-py2.py3-none-any.whl (61 kB)\n",
      "Collecting chardet<5,>=3.0.2\n",
      "  Using cached chardet-4.0.0-py2.py3-none-any.whl (178 kB)\n",
      "Requirement already satisfied: certifi>=2017.4.17 in c:\\users\\orange\\anaconda3\\envs\\yumeml\\lib\\site-packages (from requests>=2.0->line-bot-sdk) (2020.12.5)\n",
      "Collecting idna<3,>=2.5\n",
      "  Using cached idna-2.10-py2.py3-none-any.whl (58 kB)\n",
      "Collecting urllib3<1.27,>=1.21.1\n",
      "  Downloading urllib3-1.26.6-py2.py3-none-any.whl (138 kB)\n",
      "Building wheels for collected packages: future\n",
      "  Building wheel for future (setup.py): started\n",
      "  Building wheel for future (setup.py): finished with status 'done'\n",
      "  Created wheel for future: filename=future-0.18.2-py3-none-any.whl size=491059 sha256=1312bcbe61c20580713a7c68dbca6a2f0b2a245f12163ec47c16cff00f34ccce\n",
      "  Stored in directory: c:\\users\\orange\\appdata\\local\\pip\\cache\\wheels\\8e\\70\\28\\3d6ccd6e315f65f245da085482a2e1c7d14b90b30f239e2cf4\n",
      "Successfully built future\n",
      "Installing collected packages: urllib3, idna, chardet, requests, future, line-bot-sdk\n",
      "Successfully installed chardet-4.0.0 future-0.18.2 idna-2.10 line-bot-sdk-1.19.0 requests-2.25.1 urllib3-1.26.6\n",
      "  WARNING: The script chardetect.exe is installed in 'C:\\Users\\ORANGE\\anaconda3\\envs\\yumeML\\Scripts' which is not on PATH.\n",
      "  Consider adding this directory to PATH or, if you prefer to suppress this warning, use --no-warn-script-location.\n",
      "  WARNING: The scripts futurize.exe and pasteurize.exe are installed in 'C:\\Users\\ORANGE\\anaconda3\\envs\\yumeML\\Scripts' which is not on PATH.\n",
      "  Consider adding this directory to PATH or, if you prefer to suppress this warning, use --no-warn-script-location.\n"
     ]
    }
   ],
   "source": [
    "#環境構築　初回起動の場合のみ実行\n",
    "!pip3 install flask\n",
    "!pip3 install line-bot-sdk"
   ]
  },
  {
   "cell_type": "code",
   "execution_count": null,
   "metadata": {},
   "outputs": [],
   "source": [
    "#LINE BOT のサンプルからいじる\n",
    "\n",
    "from flask import Flask, request, abort\n",
    "\n",
    "from linebot import (\n",
    "    LineBotApi, WebhookHandler\n",
    ")\n",
    "from linebot.exceptions import (\n",
    "    InvalidSignatureError\n",
    ")\n",
    "from linebot.models import (\n",
    "    MessageEvent, TextMessage, TextSendMessage,\n",
    ")\n",
    "import os\n",
    "\n",
    "app = Flask(__name__)\n",
    "\n",
    "#環境変数取得\n",
    "YOUR_CHANNEL_ACCESS_TOKEN = os.environ[\"YOUR_CHANNEL_ACCESS_TOKEN\"]\n",
    "YOUR_CHANNEL_SECRET = os.environ[\"YOUR_CHANNEL_SECRET\"]\n",
    "\n",
    "line_bot_api = LineBotApi(YOUR_CHANNEL_ACCESS_TOKEN)\n",
    "handler = WebhookHandler(YOUR_CHANNEL_SECRET)\n",
    "\n",
    "@app.route(\"/callback\", methods=['POST'])\n",
    "def callback():\n",
    "    # get X-Line-Signature header value\n",
    "    signature = request.headers['X-Line-Signature']\n",
    "\n",
    "    # get request body as text\n",
    "    body = request.get_data(as_text=True)\n",
    "    app.logger.info(\"Request body: \" + body)\n",
    "\n",
    "    # handle webhook body\n",
    "    try:\n",
    "        handler.handle(body, signature)\n",
    "    except InvalidSignatureError:\n",
    "        abort(400)\n",
    "\n",
    "    return 'OK'\n",
    "\n",
    "\n",
    "@handler.add(MessageEvent, message=TextMessage)\n",
    "def handle_message(event):\n",
    "    line_bot_api.reply_message(\n",
    "        event.reply_token,\n",
    "        TextSendMessage(text=event.message.text))\n",
    "\n",
    "\n",
    "if __name__ == \"__main__\":\n",
    "#    app.run()\n",
    "    port = int(os.getenv(\"PORT\", 5000))\n",
    "    app.run(host=\"0.0.0.0\", port=port)"
   ]
  }
 ]
}